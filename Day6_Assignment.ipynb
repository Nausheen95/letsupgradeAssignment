{
  "nbformat": 4,
  "nbformat_minor": 0,
  "metadata": {
    "colab": {
      "name": "Day6 Assignment.ipynb",
      "provenance": [],
      "authorship_tag": "ABX9TyMt8peKAprghii6UNM+Hpfo",
      "include_colab_link": true
    },
    "kernelspec": {
      "name": "python3",
      "display_name": "Python 3"
    }
  },
  "cells": [
    {
      "cell_type": "markdown",
      "metadata": {
        "id": "view-in-github",
        "colab_type": "text"
      },
      "source": [
        "<a href=\"https://colab.research.google.com/github/Nausheen95/letsupgradeAssignment/blob/master/Day6_Assignment.ipynb\" target=\"_parent\"><img src=\"https://colab.research.google.com/assets/colab-badge.svg\" alt=\"Open In Colab\"/></a>"
      ]
    },
    {
      "cell_type": "markdown",
      "metadata": {
        "id": "7hsUpvdVFEgv",
        "colab_type": "text"
      },
      "source": [
        "Assignment 1 - Python program to create Bankaccount class with deposit, withdraw function."
      ]
    },
    {
      "cell_type": "code",
      "metadata": {
        "id": "UNkmWF6mE_J6",
        "colab_type": "code",
        "colab": {
          "base_uri": "https://localhost:8080/",
          "height": 74
        },
        "outputId": "3d1d1f6e-55ee-4722-e083-9f955b201a44"
      },
      "source": [
        "class BankAccount: \n",
        "    def __init__(self): \n",
        "        self.balc = 0\n",
        "        print(\"Hello!!!New Account is created-\") \n",
        "    \n",
        "    def deposit(self):\n",
        "        amount = int(input('Enter the amount to deposit:'))\n",
        "        self.balance += amount\n",
        "        print('Your  Balance is =' %self.balance)\n",
        "        \n",
        "    def withdraw(self):\n",
        "        amount = int(input('Enter the amount to withdraw:'))\n",
        "        if (amount > self.balance):\n",
        "            print('Insufficient Balance!')\n",
        "        else:\n",
        "            self.balance -= amount\n",
        "            print('Your Remaining Balance = ', self.balance)\n",
        "            \n",
        "    def enquiry(self):\n",
        "        print('Your Balance =', self.balance)\n",
        "\n",
        "account = Bank_Account()\n",
        "account.deposit()\n",
        "account.withdraw()"
      ],
      "execution_count": null,
      "outputs": [
        {
          "output_type": "stream",
          "text": [
            "Hello!!! Your account is created.\n"
          ],
          "name": "stdout"
        }
      ]
    },
    {
      "cell_type": "markdown",
      "metadata": {
        "id": "COFQUp2wFIjH",
        "colab_type": "text"
      },
      "source": [
        "Assignment 2 - Python program to calculate volume and surface area of cone"
      ]
    },
    {
      "cell_type": "code",
      "metadata": {
        "id": "z9IQnmMSFnkP",
        "colab_type": "code",
        "colab": {}
      },
      "source": [
        "import math \n",
        "pi = math.pi \n",
        "  \n",
        "# Function to calculate Volume of Cone \n",
        "def volume(r, h): \n",
        "    return (1 / 3) * pi * r * r * h \n",
        "  \n",
        "# Function To Calculate Surface Area of Cone \n",
        "def surfacearea(r, s): \n",
        "    return pi * r * s + pi * r * r \n",
        "   \n",
        "radius = float(5) \n",
        "height = float(12) \n",
        "slat_height = float(13) \n",
        "print( \"Volume Of Cone : \", volume(radius, height) ) \n",
        "print( \"Surface Area Of Cone : \", surfacearea(radius, slat_height) )"
      ],
      "execution_count": null,
      "outputs": []
    }
  ]
}