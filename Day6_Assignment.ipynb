{
  "nbformat": 4,
  "nbformat_minor": 0,
  "metadata": {
    "colab": {
      "name": "Day6 Assignment.ipynb",
      "provenance": [],
      "authorship_tag": "ABX9TyPacZdGekHZT5mbkYk+Ola4",
      "include_colab_link": true
    },
    "kernelspec": {
      "name": "python3",
      "display_name": "Python 3"
    }
  },
  "cells": [
    {
      "cell_type": "markdown",
      "metadata": {
        "id": "view-in-github",
        "colab_type": "text"
      },
      "source": [
        "<a href=\"https://colab.research.google.com/github/Nausheen95/letsupgradeAssignment/blob/master/Day6_Assignment.ipynb\" target=\"_parent\"><img src=\"https://colab.research.google.com/assets/colab-badge.svg\" alt=\"Open In Colab\"/></a>"
      ]
    },
    {
      "cell_type": "markdown",
      "metadata": {
        "id": "7hsUpvdVFEgv",
        "colab_type": "text"
      },
      "source": [
        "Assignment 1 - Python program to create Bankaccount class with deposit, withdraw function."
      ]
    },
    {
      "cell_type": "code",
      "metadata": {
        "id": "UNkmWF6mE_J6",
        "colab_type": "code",
        "colab": {
          "base_uri": "https://localhost:8080/",
          "height": 105
        },
        "outputId": "7d83ba1f-745d-4814-9f32-e3859f8786e3"
      },
      "source": [
        "class BankAccount: \n",
        "    def __init__(self): \n",
        "        self.balc = 0\n",
        "        print(\"Hello!!!New Account is created-\") \n",
        "    \n",
        "    def deposit(self):\n",
        "        amount = int(input('Enter the amount to deposit:'))\n",
        "        self.balance += amount\n",
        "        print('Your  Balance is = %d' %self.balance)\n",
        "        \n",
        "    def withdraw(self):\n",
        "        amount = int(input('Enter the amount to withdraw:'))\n",
        "        if (amount > self.balance):\n",
        "            print('Insufficient Balance!')\n",
        "        else:\n",
        "            self.balance -= amount\n",
        "            print('Your Remaining Balance =', self.balance)\n",
        "            \n",
        "    def enquiry(self):\n",
        "        print('Your Balance =', self.balance)\n",
        "\n",
        "account = Bank_Account()\n",
        "account.deposit()\n",
        "account.withdraw()"
      ],
      "execution_count": 16,
      "outputs": [
        {
          "output_type": "stream",
          "text": [
            "Hello!!! Your account is created.\n",
            "Enter the amount to deposit:1000\n",
            "Your New Balance = 1000\n",
            "Enter the amount to withdraw:0\n",
            "Your Remaining Balance = %d 1000\n"
          ],
          "name": "stdout"
        }
      ]
    },
    {
      "cell_type": "markdown",
      "metadata": {
        "id": "COFQUp2wFIjH",
        "colab_type": "text"
      },
      "source": [
        "Assignment 2 - Python program to calculate volume and surface area of cone"
      ]
    },
    {
      "cell_type": "code",
      "metadata": {
        "id": "z9IQnmMSFnkP",
        "colab_type": "code",
        "colab": {
          "base_uri": "https://localhost:8080/",
          "height": 52
        },
        "outputId": "3637d679-cb30-436d-e621-69642bcbadc6"
      },
      "source": [
        "import math \n",
        "pi = math.pi \n",
        "  \n",
        "# Function to calculate Volume of Cone \n",
        "def volume(r, h): \n",
        "    return (1 / 3) * pi * r * r * h \n",
        "  \n",
        "# Function To Calculate Surface Area of Cone \n",
        "def surfacearea(r, s): \n",
        "    return pi * r * s + pi * r * r \n",
        "   \n",
        "radius = float(6) \n",
        "height = float(10) \n",
        "slat_height = float(15) \n",
        "print( \"Volume Of Cone : \", volume(radius, height) ) \n",
        "print( \"Surface Area Of Cone : \", surfacearea(radius, slat_height) )"
      ],
      "execution_count": 18,
      "outputs": [
        {
          "output_type": "stream",
          "text": [
            "Volume Of Cone :  376.99111843077515\n",
            "Surface Area Of Cone :  395.84067435231395\n"
          ],
          "name": "stdout"
        }
      ]
    }
  ]
}