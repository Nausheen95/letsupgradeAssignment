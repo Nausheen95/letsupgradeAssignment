{
  "nbformat": 4,
  "nbformat_minor": 0,
  "metadata": {
    "colab": {
      "name": "day2assignpython.py",
      "provenance": [],
      "collapsed_sections": []
    },
    "kernelspec": {
      "name": "python3",
      "display_name": "Python 3"
    }
  },
  "cells": [
    {
      "cell_type": "code",
      "metadata": {
        "id": "UmLsgfPpHQmb",
        "colab_type": "code",
        "colab": {}
      },
      "source": [
        "Code by-NAUSHEEN FATIMA\n",
        "Batch 7(Assignment Day 2\n",
        "        )"
      ],
      "execution_count": null,
      "outputs": []
    },
    {
      "cell_type": "code",
      "metadata": {
        "id": "bIr0a3y-H5M0",
        "colab_type": "code",
        "colab": {
          "base_uri": "https://localhost:8080/",
          "height": 123
        },
        "outputId": "c9bffe92-ebc7-4fde-f3dd-a4dc2de65cfc"
      },
      "source": [
        "# list and its default function\n",
        "\n",
        "\n",
        "lst =[2,4,6,7,8,99,111,56]\n",
        "print(\"Original list=\",lst)\n",
        "lst.append(999);\n",
        "print(\"appened List=\",lst)\n",
        "\n",
        "lst.insert(2,500)\n",
        "print(\"New  item added at postion 2= \",lst)\n",
        "\n",
        "lst2=['a','f','g','t']\n",
        "\n",
        "lst.extend(lst2)\n",
        "print(\"Extended list =\",lst)\n",
        "\n",
        "lst3=[4,5,6,7,3,5,5,3,54,5,5,4,7,89,7,5,5,4,5,5,]\n",
        "\n",
        "print(\"summation function =\",sum(lst3))\n",
        "print(\"count the occurance of 5=\",lst3.count(5))\n",
        "\n",
        "\n"
      ],
      "execution_count": null,
      "outputs": [
        {
          "output_type": "stream",
          "text": [
            "Original list= [2, 4, 6, 7, 8, 99, 111, 56]\n",
            "appened List= [2, 4, 6, 7, 8, 99, 111, 56, 999]\n",
            "New  item added at postion 2=  [2, 4, 500, 6, 7, 8, 99, 111, 56, 999]\n",
            "Extended list = [2, 4, 500, 6, 7, 8, 99, 111, 56, 999, 'a', 'f', 'g', 't']\n",
            "summation function = 233\n",
            "count the occurance of 5= 9\n"
          ],
          "name": "stdout"
        }
      ]
    },
    {
      "cell_type": "code",
      "metadata": {
        "id": "MwwdPvJ-LaC4",
        "colab_type": "code",
        "colab": {
          "base_uri": "https://localhost:8080/",
          "height": 123
        },
        "outputId": "949aa58b-7ec8-4b5a-f701-4eeb5d9f4f10"
      },
      "source": [
        "#Dictionary and its default function\n",
        "\n",
        "dictt= {1:'Python',2:'JavaScript',3:'Java',4:'C++',5:'DBMS'}\n",
        "print(\"Dictionary=\",dictt)\n",
        "\n",
        "print(\"1get function, return the value at particular key=\",dictt.get(4))\n",
        "dictt[5]={6:'C'}\n",
        "print(dictt)\n",
        "print(\"return keys =\",dictt.keys())\n",
        "print('pop element from dict=',dictt.pop(1))\n",
        "del dictt[2]\n",
        "print('After Deleting a key value=', dictt)"
      ],
      "execution_count": null,
      "outputs": [
        {
          "output_type": "stream",
          "text": [
            "Dictionary= {1: 'Python', 2: 'JavaScript', 3: 'Java', 4: 'C++', 5: 'DBMS'}\n",
            "1get function, return the value at particular key= C++\n",
            "{1: 'Python', 2: 'JavaScript', 3: 'Java', 4: 'C++', 5: {6: 'C'}}\n",
            "return keys = dict_keys([1, 2, 3, 4, 5])\n",
            "pop element from dict= Python\n",
            "After Deleting a key value= {3: 'Java', 4: 'C++', 5: {6: 'C'}}\n"
          ],
          "name": "stdout"
        }
      ]
    },
    {
      "cell_type": "code",
      "metadata": {
        "id": "OJjD58T-QZ2C",
        "colab_type": "code",
        "colab": {
          "base_uri": "https://localhost:8080/",
          "height": 123
        },
        "outputId": "a54face7-f3af-41b1-e097-9d4c34bc2fac"
      },
      "source": [
        "#Sets and its default function\n",
        "my_set = {1, 2, 3,4,5,6,67}\n",
        "print('Orginal set=',my_set)\n",
        "\n",
        "\n",
        "\n",
        "my_set.add(99)\n",
        "print('After adding 2=',my_set)\n",
        "\n",
        "\n",
        "my_set.update([44,55,77])\n",
        "print('updated set=',my_set)\n",
        "\n",
        "my_set.discard(4)\n",
        "print('After discard =',my_set)\n",
        "\n",
        "\n",
        "my_set.remove(6)\n",
        "print('After remove=',my_set)\n",
        "\n",
        "set2={'a','d','f'}\n",
        "print(\"Union of set =\",my_set|set2)"
      ],
      "execution_count": null,
      "outputs": [
        {
          "output_type": "stream",
          "text": [
            "Orginal set= {1, 2, 3, 4, 5, 6, 67}\n",
            "After adding 2= {1, 2, 3, 4, 5, 6, 67, 99}\n",
            "updated set= {1, 2, 3, 4, 5, 6, 67, 99, 44, 77, 55}\n",
            "After discard = {1, 2, 3, 5, 6, 67, 99, 44, 77, 55}\n",
            "After remove= {1, 2, 3, 5, 67, 99, 44, 77, 55}\n",
            "Union of set = {1, 2, 3, 67, 5, 99, 'a', 44, 77, 'f', 'd', 55}\n"
          ],
          "name": "stdout"
        }
      ]
    },
    {
      "cell_type": "code",
      "metadata": {
        "id": "zudog2Q7S1Z4",
        "colab_type": "code",
        "colab": {
          "base_uri": "https://localhost:8080/",
          "height": 105
        },
        "outputId": "0f8c2f94-9ed8-4002-b452-a24b5b6fb26b"
      },
      "source": [
        "#Tuple and its function\n",
        "\n",
        "tupl= (4,5,6,7,'hi','hi','hi',8,9,9,777,44)\n",
        "print(\"Original tuple=\",tupl)\n",
        "#slicing\n",
        "print('After slicing',tupl[1:6])\n",
        "\n",
        "print('Count the occurance of hi=',tupl.count('hi')) \n",
        "print('Return the postion of 777=',tupl.index(777))\n",
        "\n",
        "print(\"return true if it is present=\",'hi' in tupl)\n",
        "del tupl  # delete the entire tuple\n",
        "\n"
      ],
      "execution_count": null,
      "outputs": [
        {
          "output_type": "stream",
          "text": [
            "Original tuple= (4, 5, 6, 7, 'hi', 'hi', 'hi', 8, 9, 9, 777, 44)\n",
            "After slicing (5, 6, 7, 'hi', 'hi')\n",
            "Count the occurance of hi= 3\n",
            "Return the postion of 777= 10\n",
            "return true if it is present True\n"
          ],
          "name": "stdout"
        }
      ]
    },
    {
      "cell_type": "code",
      "metadata": {
        "id": "SvkDeD5cVMiI",
        "colab_type": "code",
        "colab": {
          "base_uri": "https://localhost:8080/",
          "height": 158
        },
        "outputId": "15826dab-a5a5-4472-c8c9-b97dccfdcdbd"
      },
      "source": [
        "#string and its function\n",
        "str= 'Hello World'\n",
        "print('Original string=',str)\n",
        "print(str.capitalize)\n",
        "#Accessing string characters in Python\n",
        "print('str[-1] = ', str[-1])\n",
        "print('str[5:-2] = ', str[5:-2])\n",
        "print(\"Length of string=\",len(str))\n",
        "\n",
        "print(str.upper())\n",
        "print(str.lower())\n",
        "st = str.endswith('ld') \n",
        "print(st)"
      ],
      "execution_count": null,
      "outputs": [
        {
          "output_type": "stream",
          "text": [
            "Original string= Hello World\n",
            "<built-in method capitalize of str object at 0x7f7833f97970>\n",
            "str[-1] =  d\n",
            "str[5:-2] =   Wor\n",
            "Length of string= 11\n",
            "HELLO WORLD\n",
            "hello world\n",
            "True\n"
          ],
          "name": "stdout"
        }
      ]
    }
  ]
}