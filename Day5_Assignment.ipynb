{
  "nbformat": 4,
  "nbformat_minor": 0,
  "metadata": {
    "colab": {
      "name": "Day5 Assignment.ipynb",
      "provenance": [],
      "authorship_tag": "ABX9TyPkLDLp91ewul0ZhmqDcNu5",
      "include_colab_link": true
    },
    "kernelspec": {
      "name": "python3",
      "display_name": "Python 3"
    }
  },
  "cells": [
    {
      "cell_type": "markdown",
      "metadata": {
        "id": "view-in-github",
        "colab_type": "text"
      },
      "source": [
        "<a href=\"https://colab.research.google.com/github/Nausheen95/letsupgradeAssignment/blob/master/Day5_Assignment.ipynb\" target=\"_parent\"><img src=\"https://colab.research.google.com/assets/colab-badge.svg\" alt=\"Open In Colab\"/></a>"
      ]
    },
    {
      "cell_type": "markdown",
      "metadata": {
        "id": "bChYUuQ1v9Bd",
        "colab_type": "text"
      },
      "source": [
        "Batch 7 python Day 5 Assigmnent"
      ]
    },
    {
      "cell_type": "markdown",
      "metadata": {
        "id": "6d46kwFVwJx3",
        "colab_type": "text"
      },
      "source": [
        "Q1 - Make a function for prime Numbers and use filter to filter out all the prime numbers from 1-2500"
      ]
    },
    {
      "cell_type": "code",
      "metadata": {
        "id": "qHmR8ilKw8fL",
        "colab_type": "code",
        "colab": {}
      },
      "source": [
        "lst= list(range(2,2500))\n",
        "#print(lst)"
      ],
      "execution_count": null,
      "outputs": []
    },
    {
      "cell_type": "code",
      "metadata": {
        "id": "rUskg9uPzKiw",
        "colab_type": "code",
        "colab": {}
      },
      "source": [
        "def primeCheck(n):\n",
        "    if (n==1):\n",
        "        return False\n",
        "    elif (n==2):\n",
        "        return True;\n",
        "    else:\n",
        "        for x in range(2,n):\n",
        "            if(n % x==0):\n",
        "                return False\n",
        "        return True\n",
        "#test_prime(7)        "
      ],
      "execution_count": 4,
      "outputs": []
    },
    {
      "cell_type": "code",
      "metadata": {
        "id": "NiRgC5Knzj8p",
        "colab_type": "code",
        "colab": {
          "base_uri": "https://localhost:8080/",
          "height": 54
        },
        "outputId": "eb5fb644-27c2-4878-e3be-13a7fa345424"
      },
      "source": [
        "listOfprimenum = filter(primeCheck, lst)\n",
        "print(list(listOfprimenum))"
      ],
      "execution_count": 27,
      "outputs": [
        {
          "output_type": "stream",
          "text": [
            "[2, 3, 5, 7, 11, 13, 17, 19, 23, 29, 31, 37, 41, 43, 47, 53, 59, 61, 67, 71, 73, 79, 83, 89, 97, 101, 103, 107, 109, 113, 127, 131, 137, 139, 149, 151, 157, 163, 167, 173, 179, 181, 191, 193, 197, 199, 211, 223, 227, 229, 233, 239, 241, 251, 257, 263, 269, 271, 277, 281, 283, 293, 307, 311, 313, 317, 331, 337, 347, 349, 353, 359, 367, 373, 379, 383, 389, 397, 401, 409, 419, 421, 431, 433, 439, 443, 449, 457, 461, 463, 467, 479, 487, 491, 499, 503, 509, 521, 523, 541, 547, 557, 563, 569, 571, 577, 587, 593, 599, 601, 607, 613, 617, 619, 631, 641, 643, 647, 653, 659, 661, 673, 677, 683, 691, 701, 709, 719, 727, 733, 739, 743, 751, 757, 761, 769, 773, 787, 797, 809, 811, 821, 823, 827, 829, 839, 853, 857, 859, 863, 877, 881, 883, 887, 907, 911, 919, 929, 937, 941, 947, 953, 967, 971, 977, 983, 991, 997, 1009, 1013, 1019, 1021, 1031, 1033, 1039, 1049, 1051, 1061, 1063, 1069, 1087, 1091, 1093, 1097, 1103, 1109, 1117, 1123, 1129, 1151, 1153, 1163, 1171, 1181, 1187, 1193, 1201, 1213, 1217, 1223, 1229, 1231, 1237, 1249, 1259, 1277, 1279, 1283, 1289, 1291, 1297, 1301, 1303, 1307, 1319, 1321, 1327, 1361, 1367, 1373, 1381, 1399, 1409, 1423, 1427, 1429, 1433, 1439, 1447, 1451, 1453, 1459, 1471, 1481, 1483, 1487, 1489, 1493, 1499, 1511, 1523, 1531, 1543, 1549, 1553, 1559, 1567, 1571, 1579, 1583, 1597, 1601, 1607, 1609, 1613, 1619, 1621, 1627, 1637, 1657, 1663, 1667, 1669, 1693, 1697, 1699, 1709, 1721, 1723, 1733, 1741, 1747, 1753, 1759, 1777, 1783, 1787, 1789, 1801, 1811, 1823, 1831, 1847, 1861, 1867, 1871, 1873, 1877, 1879, 1889, 1901, 1907, 1913, 1931, 1933, 1949, 1951, 1973, 1979, 1987, 1993, 1997, 1999, 2003, 2011, 2017, 2027, 2029, 2039, 2053, 2063, 2069, 2081, 2083, 2087, 2089, 2099, 2111, 2113, 2129, 2131, 2137, 2141, 2143, 2153, 2161, 2179, 2203, 2207, 2213, 2221, 2237, 2239, 2243, 2251, 2267, 2269, 2273, 2281, 2287, 2293, 2297, 2309, 2311, 2333, 2339, 2341, 2347, 2351, 2357, 2371, 2377, 2381, 2383, 2389, 2393, 2399, 2411, 2417, 2423, 2437, 2441, 2447, 2459, 2467, 2473, 2477]\n"
          ],
          "name": "stdout"
        }
      ]
    },
    {
      "cell_type": "markdown",
      "metadata": {
        "id": "b1wYoVepxKCX",
        "colab_type": "text"
      },
      "source": [
        "Q 2-WAP to identify sub list[1,1,5]\n",
        "is there in the given list in the same order ,if yes print \"it's a Match\"\n",
        "if no then print\"it's Gone\"in function\n",
        "ex:\n",
        "listy=[1,5,6,4,1,2,3,5]-it's a Match\n",
        "listy=[1,5,6,5,1,2,3,6]- it's Gone"
      ]
    },
    {
      "cell_type": "code",
      "metadata": {
        "id": "SFHOTsDws_0S",
        "colab_type": "code",
        "colab": {
          "base_uri": "https://localhost:8080/",
          "height": 52
        },
        "outputId": "350a3380-a508-4c0d-d625-38d38a7bf9f7"
      },
      "source": [
        "x = [1,5,6,4,1,2,3,5]\n",
        "y = [1,1,5]\n",
        "\n",
        "def check(a,b):\n",
        "    for i in a:\n",
        "        for j in b:\n",
        "            if(len(b)>=0 and j == i):\n",
        "                b.pop(0)\n",
        "            else:\n",
        "                break\n",
        "    return b\n",
        "\n",
        "if len(check(x,y))==0:\n",
        "    print(\"Its a match\")\n",
        "else: print(\"Its gone\")\n",
        "\n",
        "check(x,y)"
      ],
      "execution_count": 26,
      "outputs": [
        {
          "output_type": "stream",
          "text": [
            "Its a match\n"
          ],
          "name": "stdout"
        },
        {
          "output_type": "execute_result",
          "data": {
            "text/plain": [
              "[]"
            ]
          },
          "metadata": {
            "tags": []
          },
          "execution_count": 26
        }
      ]
    },
    {
      "cell_type": "markdown",
      "metadata": {
        "id": "qllBDjGGxQK3",
        "colab_type": "text"
      },
      "source": [
        "Q3- Make a lambda function for capitalize the whole sentence passed using arguments.\n",
        "And map all the sentence in the List with Lambda funtion.\n",
        "i/p-:\n",
        "[\"hey this is sai\", i am in mumbai\",..]\n",
        "o/p\n",
        "[\"Hey This Is Sai\", I Am In Mumbai\",..]\n"
      ]
    },
    {
      "cell_type": "code",
      "metadata": {
        "id": "DYr2v7wZx53t",
        "colab_type": "code",
        "colab": {
          "base_uri": "https://localhost:8080/",
          "height": 35
        },
        "outputId": "7d83b566-eff3-4153-eaad-559bfd447c0e"
      },
      "source": [
        "#normal function\n",
        "def capitalize(anystring):\n",
        "    return anystring.title()\n",
        "\n",
        "capitalize( \"hey this is sai, i am in mumbai\" )    "
      ],
      "execution_count": 23,
      "outputs": [
        {
          "output_type": "execute_result",
          "data": {
            "application/vnd.google.colaboratory.intrinsic+json": {
              "type": "string"
            },
            "text/plain": [
              "'Hey This Is Sai, I Am In Mumbai'"
            ]
          },
          "metadata": {
            "tags": []
          },
          "execution_count": 23
        }
      ]
    },
    {
      "cell_type": "code",
      "metadata": {
        "id": "MRoVzDW60z-N",
        "colab_type": "code",
        "colab": {
          "base_uri": "https://localhost:8080/",
          "height": 34
        },
        "outputId": "4ef32d34-57de-47ba-c12b-8106733c4950"
      },
      "source": [
        "#Using lambda\n",
        "lstSentence = [\" hey this is sai, i am in mumbai. \"]\n",
        "capitalizeLamdaversion = lambda anystring: anystring.title()  # function into lambda function\n",
        "\n",
        "capitalizeLamdaversion(\" hey this is sai, i am in mumbai \")\n",
        "lstmap = map( lambda anystring : anystring.title(), list1 )    # map is used \n",
        "\n",
        "print(list(lstmap))"
      ],
      "execution_count": 24,
      "outputs": [
        {
          "output_type": "stream",
          "text": [
            "[' Hey I Am Juhi, I Am In Nagpur. ']\n"
          ],
          "name": "stdout"
        }
      ]
    }
  ]
}